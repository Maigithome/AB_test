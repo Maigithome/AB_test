{
 "cells": [
  {
   "cell_type": "markdown",
   "id": "62affda1",
   "metadata": {},
   "source": [
    "Если в карточку товара в OZON сразу включить дату прибытия покупки, это позволит повысить частоту конверсии в покупку."
   ]
  },
  {
   "cell_type": "markdown",
   "id": "5fe5e05b",
   "metadata": {},
   "source": [
    "На ком будет проводиться проверка гипотезы: на 10% постоянных покупателей."
   ]
  },
  {
   "cell_type": "markdown",
   "id": "d3756252",
   "metadata": {},
   "source": [
    "На какие метрики повлияет: Конверсия в покупку"
   ]
  },
  {
   "cell_type": "markdown",
   "id": "063038f1",
   "metadata": {},
   "source": [
    "Ожидаемый эффект: увеличение конверсии на 1% до 6%"
   ]
  },
  {
   "cell_type": "markdown",
   "id": "1e07772e",
   "metadata": {},
   "source": [
    "План действий: если тест даст положительный эффект, то раскатаем на остальных пользователей, если конверсия просядет, будем искать новые возможности для увеличения конверсии."
   ]
  },
  {
   "cell_type": "code",
   "execution_count": 14,
   "id": "9e817733",
   "metadata": {},
   "outputs": [],
   "source": [
    "from statsmodels.stats.power import tt_ind_solve_power, zt_ind_solve_power\n",
    "from statsmodels.stats.proportion import proportion_effectsize\n",
    "from statsmodels.stats.meta_analysis import effectsize_smd\n",
    "from typing import Union\n",
    "import plotly.graph_objects as go\n",
    "from scipy import stats\n",
    "from math import asin\n",
    "import numpy as np"
   ]
  },
  {
   "cell_type": "code",
   "execution_count": 15,
   "id": "5d9b568a",
   "metadata": {},
   "outputs": [],
   "source": [
    "def calc_proportion_es(prob1: float, prob2: float):\n",
    "    \n",
    "    return abs(proportion_effectsize(prob1, prob2))\n",
    "\n",
    "\n",
    "\n",
    "def calc_sample_size_proportion(effect_size: float,\n",
    "                     alpha: float = .05,\n",
    "                     beta: float = .2,\n",
    "                     ratio: Union[float, int] = 1):\n",
    "    \n",
    "    n = zt_ind_solve_power(effect_size=effect_size,\n",
    "                           alpha=alpha,\n",
    "                           power=(1 - beta),\n",
    "                           ratio=ratio,\n",
    "                  )\n",
    "    return int(n * 2)"
   ]
  },
  {
   "cell_type": "markdown",
   "id": "a5b2941e",
   "metadata": {},
   "source": [
    "Наша продуктовая команда в ozon планирует запустить тест, направленный на увеличение конверсии в покупку. Одна из основных метрик конверсия = 5%. Мы предполагаем, что при оптимизации сайта она изменится минимум на 1% (станет 6%).Средний трафик 4000000 человек в день. Посчитайте сколько нам нужно дней держать эксперимент при alpha = 5% и beta = 20%"
   ]
  },
  {
   "cell_type": "code",
   "execution_count": 16,
   "id": "b65303d6",
   "metadata": {},
   "outputs": [
    {
     "data": {
      "text/plain": [
       "0.04390731454463309"
      ]
     },
     "execution_count": 16,
     "metadata": {},
     "output_type": "execute_result"
    }
   ],
   "source": [
    "BR_1, BR_2 = 0.05, 0.06\n",
    "\n",
    "es_prop = calc_proportion_es(BR_1, BR_2)\n",
    "es_prop"
   ]
  },
  {
   "cell_type": "code",
   "execution_count": 17,
   "id": "d8f6b9e6",
   "metadata": {},
   "outputs": [
    {
     "data": {
      "text/plain": [
       "16285"
      ]
     },
     "execution_count": 17,
     "metadata": {},
     "output_type": "execute_result"
    }
   ],
   "source": [
    "calc_sample_size_proportion(es_prop)"
   ]
  },
  {
   "cell_type": "code",
   "execution_count": 18,
   "id": "28df8621",
   "metadata": {},
   "outputs": [
    {
     "data": {
      "text/plain": [
       "400000.0"
      ]
     },
     "execution_count": 18,
     "metadata": {},
     "output_type": "execute_result"
    }
   ],
   "source": [
    "DAU = 4000000*0.1\n",
    "DAU"
   ]
  },
  {
   "cell_type": "code",
   "execution_count": 19,
   "id": "4a891e5b",
   "metadata": {},
   "outputs": [
    {
     "data": {
      "text/plain": [
       "0.0407125"
      ]
     },
     "execution_count": 19,
     "metadata": {},
     "output_type": "execute_result"
    }
   ],
   "source": [
    "res = 16285 / DAU\n",
    "res"
   ]
  },
  {
   "cell_type": "markdown",
   "id": "c8876f89",
   "metadata": {},
   "source": [
    "Ответ: для проведения A/B теста потребуется не менее 16285 пользователей, длительность теста от 0.04 дня."
   ]
  }
 ],
 "metadata": {
  "kernelspec": {
   "display_name": "Python 3 (ipykernel)",
   "language": "python",
   "name": "python3"
  },
  "language_info": {
   "codemirror_mode": {
    "name": "ipython",
    "version": 3
   },
   "file_extension": ".py",
   "mimetype": "text/x-python",
   "name": "python",
   "nbconvert_exporter": "python",
   "pygments_lexer": "ipython3",
   "version": "3.9.13"
  }
 },
 "nbformat": 4,
 "nbformat_minor": 5
}
